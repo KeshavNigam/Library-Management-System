{
 "cells": [
  {
   "cell_type": "code",
   "execution_count": 17,
   "id": "1adfa5d5",
   "metadata": {},
   "outputs": [
    {
     "name": "stdout",
     "output_type": "stream",
     "text": [
      "The Library has 3 books.The books are\n",
      "Harry Potter\n",
      "Rich Dad,Poor Dad\n",
      "Elementary and Advanced Mathematics \n"
     ]
    }
   ],
   "source": [
    "class Library:\n",
    "    def __init__(self):\n",
    "        self.no_of_Books = 0\n",
    "        self.books = []\n",
    "        \n",
    "    def addBook(self, book):\n",
    "        self.books.append(book)\n",
    "        self.no_of_Books = len(self.books)\n",
    "    \n",
    "    def showInfo(self):\n",
    "        print(f\"The Library has {self.no_of_Books} books.The books are\")\n",
    "        for book in self.books:\n",
    "            print(book)\n",
    "        \n",
    "        \n",
    "L1 = Library()\n",
    "L1.addBook(\"Harry Potter\")\n",
    "L1.addBook(\"Rich Dad,Poor Dad\")\n",
    "L1.addBook(\"Elementary and Advanced Mathematics \")\n",
    "L1.showInfo()"
   ]
  },
  {
   "cell_type": "code",
   "execution_count": null,
   "id": "80892ef3",
   "metadata": {},
   "outputs": [],
   "source": []
  }
 ],
 "metadata": {
  "kernelspec": {
   "display_name": "Python 3 (ipykernel)",
   "language": "python",
   "name": "python3"
  },
  "language_info": {
   "codemirror_mode": {
    "name": "ipython",
    "version": 3
   },
   "file_extension": ".py",
   "mimetype": "text/x-python",
   "name": "python",
   "nbconvert_exporter": "python",
   "pygments_lexer": "ipython3",
   "version": "3.9.13"
  }
 },
 "nbformat": 4,
 "nbformat_minor": 5
}
